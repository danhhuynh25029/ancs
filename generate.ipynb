{
 "cells": [
  {
   "cell_type": "code",
   "execution_count": 1,
   "id": "c8c8bfda",
   "metadata": {},
   "outputs": [],
   "source": [
    "import pandas as pd\n",
    "df = pd.read_csv(\"./dataset/orders.csv\")"
   ]
  },
  {
   "cell_type": "code",
   "execution_count": 2,
   "id": "9a35a279-27d1-49de-bc11-56355618ea45",
   "metadata": {},
   "outputs": [
    {
     "name": "stdout",
     "output_type": "stream",
     "text": [
      "<class 'pandas.core.frame.DataFrame'>\n",
      "RangeIndex: 185013 entries, 0 to 185012\n",
      "Data columns (total 9 columns):\n",
      " #   Column                             Non-Null Count   Dtype  \n",
      "---  ------                             --------------   -----  \n",
      " 0   Customer ID                        185013 non-null  int64  \n",
      " 1   Customer Status                    185013 non-null  object \n",
      " 2   Date Order was placed              185013 non-null  object \n",
      " 3   Delivery Date                      185013 non-null  object \n",
      " 4   Order ID                           185013 non-null  int64  \n",
      " 5   Product ID                         185013 non-null  int64  \n",
      " 6   Quantity Ordered                   185013 non-null  int64  \n",
      " 7   Total Retail Price for This Order  185013 non-null  float64\n",
      " 8   Cost Price Per Unit                185013 non-null  float64\n",
      "dtypes: float64(2), int64(4), object(3)\n",
      "memory usage: 12.7+ MB\n"
     ]
    }
   ],
   "source": [
    "df.info()"
   ]
  },
  {
   "cell_type": "code",
   "execution_count": 9,
   "id": "802317d3-d504-4909-9971-9d5bf74d5d20",
   "metadata": {},
   "outputs": [
    {
     "name": "stdout",
     "output_type": "stream",
     "text": [
      "<class 'pandas.core.frame.DataFrame'>\n",
      "RangeIndex: 185013 entries, 0 to 185012\n",
      "Data columns (total 9 columns):\n",
      " #   Column                             Non-Null Count   Dtype  \n",
      "---  ------                             --------------   -----  \n",
      " 0   Customer ID                        185013 non-null  int64  \n",
      " 1   Customer Status                    185013 non-null  object \n",
      " 2   Date Order was placed              185013 non-null  object \n",
      " 3   Delivery Date                      185013 non-null  object \n",
      " 4   Order ID                           185013 non-null  int64  \n",
      " 5   Product ID                         185013 non-null  int64  \n",
      " 6   Quantity Ordered                   185013 non-null  int64  \n",
      " 7   Total Retail Price for This Order  185013 non-null  float64\n",
      " 8   Cost Price Per Unit                185013 non-null  float64\n",
      "dtypes: float64(2), int64(4), object(3)\n",
      "memory usage: 12.7+ MB\n"
     ]
    }
   ],
   "source": [
    "df.dropna()\n",
    "df.info()"
   ]
  },
  {
   "cell_type": "code",
   "execution_count": 31,
   "id": "b7abcd5f-1bb6-497f-9287-822bc32f4165",
   "metadata": {},
   "outputs": [],
   "source": [
    "df = df.rename(columns={'Date Order was placed': 'created_at'})\n",
    "df = df.rename(columns={'Order ID': 'id'})\n",
    "df = df.rename(columns={'Quantity Ordered': 'quantity'})\n",
    "df = df.rename(columns={'Total Retail Price for This Order': 'total_price_order'})\n",
    "df = df.rename(columns={'Delivery Date': 'delivery_date'})"
   ]
  },
  {
   "cell_type": "code",
   "execution_count": 40,
   "id": "29202288-facb-4562-88f2-fbe863301ea2",
   "metadata": {},
   "outputs": [],
   "source": [
    "a = df.iloc[0]['id']"
   ]
  },
  {
   "cell_type": "code",
   "execution_count": 4,
   "id": "36f2c148-801c-4cae-a448-7ae510908f62",
   "metadata": {},
   "outputs": [
    {
     "name": "stdout",
     "output_type": "stream",
     "text": [
      "shops\n"
     ]
    }
   ],
   "source": [
    "import mysql.connector\n",
    "\n",
    "mydb = mysql.connector.connect(\n",
    "  host=\"localhost\",\n",
    "  user=\"mysqluser\",\n",
    "  password=\"mysqlpw\",\n",
    "  database=\"shops\"\n",
    ")\n",
    "\n",
    "print(mydb.database)"
   ]
  },
  {
   "cell_type": "code",
   "execution_count": 53,
   "id": "cbb9e936-ce37-4def-b3d5-b1498b6b8795",
   "metadata": {},
   "outputs": [
    {
     "name": "stdout",
     "output_type": "stream",
     "text": [
      "[('123002578', datetime.datetime(2017, 1, 1, 0, 0), 2, 92.6, datetime.datetime(2017, 1, 7, 0, 0)), ('123004074', datetime.datetime(2017, 1, 1, 0, 0), 1, 21.7, datetime.datetime(2017, 1, 5, 0, 0)), ('123000871', datetime.datetime(2017, 1, 1, 0, 0), 1, 1.7, datetime.datetime(2017, 1, 4, 0, 0)), ('123002851', datetime.datetime(2017, 1, 1, 0, 0), 1, 47.9, datetime.datetime(2017, 1, 6, 0, 0)), ('123003607', datetime.datetime(2017, 1, 1, 0, 0), 1, 36.9, datetime.datetime(2017, 1, 4, 0, 0))]\n",
      "5 was inserted.\n"
     ]
    }
   ],
   "source": [
    "from datetime import datetime\n",
    "sql = \"INSERT INTO orders (id,created_at,quantity,total_price_order,delivery_date) VALUES (%s, %s, %s, %s, %s)\"\n",
    "batch = []\n",
    "mycursor = mydb.cursor()\n",
    "\n",
    "for i in range (0,10):\n",
    "    if len(batch) >= 5:\n",
    "        print(batch)\n",
    "        mycursor.executemany(sql, batch)\n",
    "        mydb.commit()\n",
    "        print(mycursor.rowcount, \"was inserted.\")\n",
    "        batch = []\n",
    "\n",
    "    id = df.iloc[i]['id']\n",
    "    created_at = df.iloc[i]['created_at']\n",
    "    quantity = df.iloc[i]['quantity']\n",
    "    total_price = df.iloc[i]['total_price_order']\n",
    "    delivery_date = df.iloc[i]['delivery_date']\n",
    "    # format datetime\n",
    "    created_at = datetime.strptime(created_at, '%d-%b-%y')\n",
    "    delivery_date = datetime.strptime(delivery_date, '%d-%b-%y')\n",
    "    row = (str(id.item()),created_at,quantity.item(),total_price.item(),delivery_date)\n",
    "    batch.append(row)\n",
    "    "
   ]
  }
 ],
 "metadata": {
  "kernelspec": {
   "display_name": "Python 3 (ipykernel)",
   "language": "python",
   "name": "python3"
  },
  "language_info": {
   "codemirror_mode": {
    "name": "ipython",
    "version": 3
   },
   "file_extension": ".py",
   "mimetype": "text/x-python",
   "name": "python",
   "nbconvert_exporter": "python",
   "pygments_lexer": "ipython3",
   "version": "3.10.12"
  }
 },
 "nbformat": 4,
 "nbformat_minor": 5
}
